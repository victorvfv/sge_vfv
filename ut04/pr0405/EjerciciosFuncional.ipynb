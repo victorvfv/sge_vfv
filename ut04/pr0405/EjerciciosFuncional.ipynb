{
 "cells": [
  {
   "cell_type": "markdown",
   "metadata": {},
   "source": [
    "## Ejercicios de programcion funcional\n",
    "\n",
    "1.- Filtrado de una lista de números"
   ]
  },
  {
   "cell_type": "code",
   "execution_count": 1,
   "metadata": {},
   "outputs": [
    {
     "name": "stdout",
     "output_type": "stream",
     "text": [
      "[2, 4, 6, 8, 10]\n"
     ]
    }
   ],
   "source": [
    "numeros = [1, 2, 3, 4, 5, 6, 7, 8, 9, 10]\n",
    "\n",
    "def Par(numero):\n",
    "    return numero %2==0\n",
    "\n",
    "numerosPares = list(filter(Par,numeros))\n",
    "print(numerosPares)"
   ]
  },
  {
   "cell_type": "markdown",
   "metadata": {},
   "source": [
    "2.- Mapeo de temperaturas"
   ]
  },
  {
   "cell_type": "code",
   "execution_count": null,
   "metadata": {},
   "outputs": [],
   "source": [
    "celsius = [0, 20, 37, 100]\n",
    "fahrenheit= list(map(lambda x:(x*9/5)+32,celsius))\n",
    "print(fahrenheit)"
   ]
  },
  {
   "cell_type": "markdown",
   "metadata": {},
   "source": [
    "3.- Suma acumulativa"
   ]
  },
  {
   "cell_type": "code",
   "execution_count": null,
   "metadata": {},
   "outputs": [],
   "source": [
    "from functools import reduce\n",
    "numeros = [1, 2, 3, 4, 5]\n",
    "\n",
    "suma_Acumulativa = reduce(lambda acc, valor: acc + valor, numeros)\n",
    "print(suma_Acumulativa)"
   ]
  },
  {
   "cell_type": "markdown",
   "metadata": {},
   "source": [
    "4.- Palabras con cierta longitud"
   ]
  },
  {
   "cell_type": "code",
   "execution_count": null,
   "metadata": {},
   "outputs": [],
   "source": [
    "palabras = [\"perro\", \"gato\", \"elefante\", \"oso\", \"jirafa\"]\n",
    "\n",
    "def longitudX (elemento):\n",
    "    return  len(elemento)>5\n",
    "\n",
    "palabrasLongitudX = list(filter(longitudX,palabras))\n",
    "\n",
    "palabrasLongitudX =list(map(lambda x: x.swapcase(),palabrasLongitudX))\n",
    "print(palabrasLongitudX)"
   ]
  },
  {
   "cell_type": "markdown",
   "metadata": {},
   "source": [
    "5.- Multiplicación de pares"
   ]
  },
  {
   "cell_type": "code",
   "execution_count": null,
   "metadata": {},
   "outputs": [],
   "source": [
    "from functools import reduce\n",
    "numeros = [1, 2, 3, 4, 5, 6]\n",
    "\n",
    "def Par(numero):\n",
    "    return numero %2==0\n",
    "numerosPares = list(filter(Par,numeros))\n",
    "\n",
    "multiplos = reduce(lambda acc, valor: acc*valor,numerosPares)\n",
    "\n",
    "print(multiplos)"
   ]
  },
  {
   "cell_type": "markdown",
   "metadata": {},
   "source": [
    "6.- Combinar operaciones en listas anidadas"
   ]
  },
  {
   "cell_type": "code",
   "execution_count": null,
   "metadata": {},
   "outputs": [],
   "source": [
    "from functools import reduce\n",
    "\n",
    "numeros = [[-3, 2, 7], [10, -5, 3], [0, 8, -2]]\n",
    "\n",
    "def positivo(numero):\n",
    "    return numero>0\n",
    "\n",
    "iter= list(reduce(lambda x,valor: x + list(filter(positivo,valor)) ,numeros, []))\n",
    "suma= reduce(lambda acc,valor: acc+valor,iter)\n",
    "print(suma)"
   ]
  }
 ],
 "metadata": {
  "kernelspec": {
   "display_name": "Python 3",
   "language": "python",
   "name": "python3"
  },
  "language_info": {
   "codemirror_mode": {
    "name": "ipython",
    "version": 3
   },
   "file_extension": ".py",
   "mimetype": "text/x-python",
   "name": "python",
   "nbconvert_exporter": "python",
   "pygments_lexer": "ipython3",
   "version": "3.13.0"
  }
 },
 "nbformat": 4,
 "nbformat_minor": 2
}
